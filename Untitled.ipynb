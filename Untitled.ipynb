{
 "cells": [
  {
   "cell_type": "markdown",
   "metadata": {},
   "source": [
    "# Importing numpy"
   ]
  },
  {
   "cell_type": "code",
   "execution_count": 216,
   "metadata": {},
   "outputs": [],
   "source": [
    "import numpy as np"
   ]
  },
  {
   "cell_type": "markdown",
   "metadata": {},
   "source": [
    "# 1. Creating an array"
   ]
  },
  {
   "cell_type": "code",
   "execution_count": 217,
   "metadata": {},
   "outputs": [
    {
     "name": "stdout",
     "output_type": "stream",
     "text": [
      "1-D Array=\n",
      " [[1.010e-05 2.200e+01 1.235e+10]]\n",
      "2-D array=\n",
      " [[1.061e-312 0.000e+000 1.064e+224]\n",
      " [1.719e+185 4.018e-057 1.545e+185]\n",
      " [2.422e-052 3.898e-086 6.272e-310]]\n"
     ]
    }
   ],
   "source": [
    "c=np.empty((1,3))\n",
    "c1=np.empty((3,3))\n",
    "\n",
    "print(\"1-D Array=\\n\",c)\n",
    "print(\"2-D array=\\n\",c1)"
   ]
  },
  {
   "cell_type": "markdown",
   "metadata": {},
   "source": [
    "# 2. creating a boolean matrix"
   ]
  },
  {
   "cell_type": "code",
   "execution_count": 218,
   "metadata": {},
   "outputs": [
    {
     "data": {
      "text/plain": [
       "array([[ True, False],\n",
       "       [False,  True]])"
      ]
     },
     "execution_count": 218,
     "metadata": {},
     "output_type": "execute_result"
    }
   ],
   "source": [
    "q=np.array(((1,0),(0,5)),dtype=bool)\n",
    "q"
   ]
  },
  {
   "cell_type": "markdown",
   "metadata": {},
   "source": [
    "# 3. odd number"
   ]
  },
  {
   "cell_type": "code",
   "execution_count": 219,
   "metadata": {},
   "outputs": [],
   "source": [
    "q=np.arange(10)\n",
    "q1=q[1:9:2]\n",
    "q2=q[q % 2 == 1]"
   ]
  },
  {
   "cell_type": "markdown",
   "metadata": {},
   "source": [
    "# 4. reshape an array?"
   ]
  },
  {
   "cell_type": "code",
   "execution_count": 220,
   "metadata": {},
   "outputs": [
    {
     "data": {
      "text/plain": [
       "array([[0, 1],\n",
       "       [2, 3],\n",
       "       [4, 5],\n",
       "       [6, 7],\n",
       "       [8, 9]])"
      ]
     },
     "execution_count": 220,
     "metadata": {},
     "output_type": "execute_result"
    }
   ],
   "source": [
    "x = np.arange(10)\n",
    "x.resize((5,2))\n",
    "x"
   ]
  },
  {
   "cell_type": "markdown",
   "metadata": {},
   "source": [
    "# 5. stack two arrays vertically"
   ]
  },
  {
   "cell_type": "code",
   "execution_count": 221,
   "metadata": {},
   "outputs": [
    {
     "data": {
      "text/plain": [
       "array([[0., 1., 2., 3., 4.],\n",
       "       [5., 6., 7., 8., 9.],\n",
       "       [1., 1., 1., 1., 1.],\n",
       "       [1., 1., 1., 1., 1.]])"
      ]
     },
     "execution_count": 221,
     "metadata": {},
     "output_type": "execute_result"
    }
   ],
   "source": [
    "a = np.arange(10)\n",
    "a.resize((2,5))\n",
    "b = np.ones(10)\n",
    "b.resize((2,5))\n",
    "x=np.row_stack([a, b])\n",
    "x"
   ]
  },
  {
   "cell_type": "markdown",
   "metadata": {},
   "source": [
    "# 6. stack two arrays horizontally"
   ]
  },
  {
   "cell_type": "code",
   "execution_count": 222,
   "metadata": {},
   "outputs": [
    {
     "data": {
      "text/plain": [
       "array([[0., 1., 2., 3., 4., 1., 1., 1., 1., 1.],\n",
       "       [5., 6., 7., 8., 9., 1., 1., 1., 1., 1.]])"
      ]
     },
     "execution_count": 222,
     "metadata": {},
     "output_type": "execute_result"
    }
   ],
   "source": [
    "a = np.arange(10)\n",
    "a.resize((2,5))\n",
    "b = np.ones(10)\n",
    "b.resize((2,5))\n",
    "x=np.column_stack([a, b])\n",
    "x"
   ]
  },
  {
   "cell_type": "markdown",
   "metadata": {},
   "source": [
    "# 7. custom sequences"
   ]
  },
  {
   "cell_type": "code",
   "execution_count": 223,
   "metadata": {},
   "outputs": [
    {
     "data": {
      "text/plain": [
       "array([[1, 1, 1, 2, 2, 2, 3, 3, 3],\n",
       "       [1, 2, 3, 1, 2, 3, 1, 2, 3]])"
      ]
     },
     "execution_count": 223,
     "metadata": {},
     "output_type": "execute_result"
    }
   ],
   "source": [
    "a = np.array([1,2,3])\n",
    "x=np.repeat(a, 3)\n",
    "y=np.tile(a, 3)\n",
    "np.row_stack([x,y])"
   ]
  },
  {
   "cell_type": "markdown",
   "metadata": {},
   "source": [
    "# 8. common items between two python numpy arrays"
   ]
  },
  {
   "cell_type": "code",
   "execution_count": 224,
   "metadata": {},
   "outputs": [
    {
     "name": "stdout",
     "output_type": "stream",
     "text": [
      "[2 4 5 6]\n"
     ]
    }
   ],
   "source": [
    "a = np.array([10,5,3,2,3,4,3,4,5,6])\n",
    "b = np.array([7,2,12,2,6,4,9,5,9,8])\n",
    "c = a.view()\n",
    "print(np.intersect1d(a,b))"
   ]
  },
  {
   "cell_type": "markdown",
   "metadata": {},
   "source": [
    "# 9. remove from one array those items that exist in another "
   ]
  },
  {
   "cell_type": "code",
   "execution_count": 225,
   "metadata": {},
   "outputs": [
    {
     "data": {
      "text/plain": [
       "array([1, 3, 3, 3, 5, 6])"
      ]
     },
     "execution_count": 225,
     "metadata": {},
     "output_type": "execute_result"
    }
   ],
   "source": [
    "a = np.array([1,2,3,2,3,4,3,4,5,6])\n",
    "b = np.array([7,2,10,2,7,4,9,4,9,8])\n",
    "idx = np.in1d(a, b)\n",
    "a[~idx]"
   ]
  },
  {
   "cell_type": "markdown",
   "metadata": {},
   "source": [
    "# 10. positions where elements of two arrays match "
   ]
  },
  {
   "cell_type": "code",
   "execution_count": 226,
   "metadata": {},
   "outputs": [
    {
     "name": "stdout",
     "output_type": "stream",
     "text": [
      "[1 3 5 7]\n"
     ]
    }
   ],
   "source": [
    "a = np.array([1,2,3,2,3,4,3,4,5,6])\n",
    "b = np.array([7,2,10,2,7,4,9,4,9,8])\n",
    "print(np.where(np.in1d(a, b))[0])\n"
   ]
  },
  {
   "cell_type": "markdown",
   "metadata": {},
   "source": [
    "# 11. extract all numbers between a given range from a numpy array\n",
    "***Get all items between 5 and 10 from a**"
   ]
  },
  {
   "cell_type": "code",
   "execution_count": 227,
   "metadata": {},
   "outputs": [
    {
     "data": {
      "text/plain": [
       "array([ 6,  9, 10])"
      ]
     },
     "execution_count": 227,
     "metadata": {},
     "output_type": "execute_result"
    }
   ],
   "source": [
    "a = np.array([2, 6, 1, 9, 10, 3, 27])\n",
    "a[(a >= 5) & (a <= 10)]"
   ]
  },
  {
   "cell_type": "markdown",
   "metadata": {},
   "source": [
    "# 12.  How to make a python function that handles scalars to work on numpy arrays"
   ]
  },
  {
   "cell_type": "code",
   "execution_count": 228,
   "metadata": {},
   "outputs": [
    {
     "data": {
      "text/plain": [
       "array([6, 7, 9, 8, 9, 7, 5])"
      ]
     },
     "execution_count": 228,
     "metadata": {},
     "output_type": "execute_result"
    }
   ],
   "source": [
    "def maximum(x, y):\n",
    "    \n",
    "    if x >= y:\n",
    "        return x\n",
    "    else:\n",
    "        return y\n",
    "\n",
    "pair_max = np.vectorize(maximum)\n",
    "\n",
    "a = np.array([5, 7, 9, 8, 6, 4, 5])\n",
    "b = np.array([6, 3, 4, 8, 9, 7, 1])\n",
    "\n",
    "c=pair_max(a, b)\n",
    "c"
   ]
  },
  {
   "cell_type": "markdown",
   "metadata": {},
   "source": [
    "# 13. Swap columns 1 and 2 in the array"
   ]
  },
  {
   "cell_type": "code",
   "execution_count": 229,
   "metadata": {},
   "outputs": [
    {
     "name": "stdout",
     "output_type": "stream",
     "text": [
      "[[ 1  0  2  3]\n",
      " [ 5  4  6  7]\n",
      " [ 9  8 10 11]]\n"
     ]
    }
   ],
   "source": [
    "a=np.arange(12).reshape(3, 4)\n",
    "a[:,[0, 1]] = a[:,[1, 0]]\n",
    "print(a)"
   ]
  },
  {
   "cell_type": "markdown",
   "metadata": {},
   "source": [
    "# 14. swap two rows in a 2d numpy array"
   ]
  },
  {
   "cell_type": "code",
   "execution_count": 230,
   "metadata": {},
   "outputs": [
    {
     "name": "stdout",
     "output_type": "stream",
     "text": [
      "[[ 4  5  6  7]\n",
      " [ 0  1  2  3]\n",
      " [ 8  9 10 11]]\n"
     ]
    }
   ],
   "source": [
    "a=np.arange(12).reshape(3, 4)\n",
    "a[[0, 1],:] = a[[1, 0],:]\n",
    "print(a)"
   ]
  },
  {
   "cell_type": "markdown",
   "metadata": {},
   "source": [
    "# 15. reverse the rows of a 2D array"
   ]
  },
  {
   "cell_type": "code",
   "execution_count": 231,
   "metadata": {},
   "outputs": [
    {
     "data": {
      "text/plain": [
       "array([[ 8,  9, 10, 11],\n",
       "       [ 4,  5,  6,  7],\n",
       "       [ 0,  1,  2,  3]])"
      ]
     },
     "execution_count": 231,
     "metadata": {},
     "output_type": "execute_result"
    }
   ],
   "source": [
    "a=np.arange(12).reshape(3, 4)\n",
    "np.flip(a, axis=0)"
   ]
  },
  {
   "cell_type": "markdown",
   "metadata": {},
   "source": [
    "# 16. reverse the columns of a 2D array"
   ]
  },
  {
   "cell_type": "code",
   "execution_count": 232,
   "metadata": {},
   "outputs": [
    {
     "data": {
      "text/plain": [
       "array([[ 3,  2,  1,  0],\n",
       "       [ 7,  6,  5,  4],\n",
       "       [11, 10,  9,  8]])"
      ]
     },
     "execution_count": 232,
     "metadata": {},
     "output_type": "execute_result"
    }
   ],
   "source": [
    "a=np.arange(12).reshape(3, 4)\n",
    "np.flip(a, axis=1)"
   ]
  },
  {
   "cell_type": "markdown",
   "metadata": {},
   "source": [
    "# 17. create a 2D array containing random floats between 5 and 10"
   ]
  },
  {
   "cell_type": "code",
   "execution_count": 233,
   "metadata": {},
   "outputs": [
    {
     "name": "stdout",
     "output_type": "stream",
     "text": [
      "[[7.84  9.628 5.355]\n",
      " [5.436 5.101 9.163]\n",
      " [8.891 9.35  9.893]\n",
      " [8.996 7.307 8.903]\n",
      " [5.591 8.2   5.717]]\n"
     ]
    }
   ],
   "source": [
    "print(np.random.uniform(5,10, size=(5,3)))"
   ]
  },
  {
   "cell_type": "markdown",
   "metadata": {},
   "source": [
    "# 18. Print or show only 3 decimal places of the numpy array "
   ]
  },
  {
   "cell_type": "code",
   "execution_count": 361,
   "metadata": {},
   "outputs": [
    {
     "name": "stdout",
     "output_type": "stream",
     "text": [
      "[[0.682 0.36 ]\n",
      " [0.437 0.698]\n",
      " [0.06  0.667]]\n"
     ]
    }
   ],
   "source": [
    "a = np.random.rand(3, 2)\n",
    "a.round(3)\n",
    "print (a)"
   ]
  },
  {
   "cell_type": "markdown",
   "metadata": {},
   "source": [
    "# Attributes"
   ]
  },
  {
   "cell_type": "code",
   "execution_count": 380,
   "metadata": {},
   "outputs": [
    {
     "name": "stdout",
     "output_type": "stream",
     "text": [
      "x= [[1 2 3]\n",
      " [4 5 6]\n",
      " [7 8 9]] \n",
      " y= [[1.5 1.  1.  2. ]\n",
      " [2.1 2.2 2.  3.3]\n",
      " [3.1 3.4 3.5 4.4]] \n",
      " z= [[1. +2.j 1. +2.j 1. +2.j 2. +3.j]\n",
      " [1.5+3.j 2.2+3.j 2.5+3.j 3. +3.j]\n",
      " [3. +4.j 3.3+4.j 3. +0.j 4. +4.j]]\n"
     ]
    }
   ],
   "source": [
    "arry1=[[1, 2, 3],[4, 5, 6],[7, 8, 9]]\n",
    "x=np.array(arry1)\n",
    "arry2=[[1.5, 1, 1, 2],[2.1, 2.2, 2, 3.3],[3.1, 3.4, 3.5, 4.4]]\n",
    "arry3=[[1+2j, 1+2j, 1+2j, 2+3j],[1.5+3j, 2.2+3j, 2.5+3j, 3+3j],[3+4j, 3.3+4j, 3, 4+4j]]\n",
    "y=np.array(arry2)\n",
    "z=np.array(arry3)\n",
    "print(\"x=\",x,\"\\n y=\",y,\"\\n z=\",z)"
   ]
  },
  {
   "cell_type": "markdown",
   "metadata": {},
   "source": [
    "# shape of array"
   ]
  },
  {
   "cell_type": "code",
   "execution_count": 255,
   "metadata": {},
   "outputs": [
    {
     "name": "stdout",
     "output_type": "stream",
     "text": [
      "(3, 3)\n",
      "(3, 4)\n",
      "(3, 4)\n"
     ]
    }
   ],
   "source": [
    "print(x.shape)\n",
    "print(y.shape)\n",
    "print(z.shape)"
   ]
  },
  {
   "cell_type": "markdown",
   "metadata": {},
   "source": [
    "# type of array"
   ]
  },
  {
   "cell_type": "code",
   "execution_count": 256,
   "metadata": {},
   "outputs": [
    {
     "name": "stdout",
     "output_type": "stream",
     "text": [
      "int32\n",
      "float64\n",
      "complex128\n"
     ]
    }
   ],
   "source": [
    "print(x.dtype)\n",
    "print(y.dtype)\n",
    "print(z.dtype)"
   ]
  },
  {
   "cell_type": "markdown",
   "metadata": {},
   "source": [
    "# flag"
   ]
  },
  {
   "cell_type": "code",
   "execution_count": 257,
   "metadata": {},
   "outputs": [
    {
     "name": "stdout",
     "output_type": "stream",
     "text": [
      "  C_CONTIGUOUS : True\n",
      "  F_CONTIGUOUS : False\n",
      "  OWNDATA : True\n",
      "  WRITEABLE : True\n",
      "  ALIGNED : True\n",
      "  WRITEBACKIFCOPY : False\n",
      "  UPDATEIFCOPY : False\n",
      "\n",
      "  C_CONTIGUOUS : True\n",
      "  F_CONTIGUOUS : False\n",
      "  OWNDATA : True\n",
      "  WRITEABLE : True\n",
      "  ALIGNED : True\n",
      "  WRITEBACKIFCOPY : False\n",
      "  UPDATEIFCOPY : False\n",
      "\n",
      "  C_CONTIGUOUS : True\n",
      "  F_CONTIGUOUS : False\n",
      "  OWNDATA : True\n",
      "  WRITEABLE : True\n",
      "  ALIGNED : True\n",
      "  WRITEBACKIFCOPY : False\n",
      "  UPDATEIFCOPY : False\n",
      "\n"
     ]
    }
   ],
   "source": [
    "print(x.flags)\n",
    "print(y.flags)\n",
    "print(z.flags)"
   ]
  },
  {
   "cell_type": "markdown",
   "metadata": {},
   "source": [
    "# flat"
   ]
  },
  {
   "cell_type": "code",
   "execution_count": 258,
   "metadata": {},
   "outputs": [
    {
     "name": "stdout",
     "output_type": "stream",
     "text": [
      "2\n",
      "1.0\n",
      "(2+3j)\n"
     ]
    }
   ],
   "source": [
    "print(x.flat[1])\n",
    "print(y.flat[2])\n",
    "print(z.flat[3])"
   ]
  },
  {
   "cell_type": "markdown",
   "metadata": {},
   "source": [
    "# imagnery part of array"
   ]
  },
  {
   "cell_type": "code",
   "execution_count": 259,
   "metadata": {},
   "outputs": [
    {
     "name": "stdout",
     "output_type": "stream",
     "text": [
      "[[0 0 0]\n",
      " [0 0 0]\n",
      " [0 0 0]]\n",
      "[[0. 0. 0. 0.]\n",
      " [0. 0. 0. 0.]\n",
      " [0. 0. 0. 0.]]\n",
      "[[2. 2. 2. 3.]\n",
      " [3. 3. 3. 3.]\n",
      " [4. 4. 0. 4.]]\n"
     ]
    }
   ],
   "source": [
    "print(x.imag)\n",
    "print(y.imag)\n",
    "print(z.imag)"
   ]
  },
  {
   "cell_type": "markdown",
   "metadata": {},
   "source": [
    "# real part of array"
   ]
  },
  {
   "cell_type": "code",
   "execution_count": 260,
   "metadata": {},
   "outputs": [
    {
     "name": "stdout",
     "output_type": "stream",
     "text": [
      "[[1 2 3]\n",
      " [4 5 6]\n",
      " [7 8 9]]\n",
      "[[1.5 1.  1.  2. ]\n",
      " [2.1 2.2 2.  3.3]\n",
      " [3.1 3.4 3.5 4.4]]\n",
      "[[1.  1.  1.  2. ]\n",
      " [1.5 2.2 2.5 3. ]\n",
      " [3.  3.3 3.  4. ]]\n"
     ]
    }
   ],
   "source": [
    "print(x.real)\n",
    "print(y.real)\n",
    "print(z.real)"
   ]
  },
  {
   "cell_type": "markdown",
   "metadata": {},
   "source": [
    "# size of array"
   ]
  },
  {
   "cell_type": "code",
   "execution_count": 261,
   "metadata": {},
   "outputs": [
    {
     "name": "stdout",
     "output_type": "stream",
     "text": [
      "9\n",
      "12\n",
      "12\n"
     ]
    }
   ],
   "source": [
    "print(x.size)\n",
    "print(y.size)\n",
    "print(z.size)"
   ]
  },
  {
   "cell_type": "markdown",
   "metadata": {},
   "source": [
    "# item size"
   ]
  },
  {
   "cell_type": "code",
   "execution_count": 262,
   "metadata": {},
   "outputs": [
    {
     "name": "stdout",
     "output_type": "stream",
     "text": [
      "4\n",
      "8\n",
      "16\n"
     ]
    }
   ],
   "source": [
    "print(x.itemsize)\n",
    "print(y.itemsize)\n",
    "print(z.itemsize)"
   ]
  },
  {
   "cell_type": "markdown",
   "metadata": {},
   "source": [
    "# no of bytes used by the array"
   ]
  },
  {
   "cell_type": "code",
   "execution_count": 263,
   "metadata": {},
   "outputs": [
    {
     "name": "stdout",
     "output_type": "stream",
     "text": [
      "36\n",
      "96\n",
      "192\n"
     ]
    }
   ],
   "source": [
    "print(x.nbytes)\n",
    "print(y.nbytes)\n",
    "print(z.nbytes)"
   ]
  },
  {
   "cell_type": "markdown",
   "metadata": {},
   "source": [
    "# dimension of array"
   ]
  },
  {
   "cell_type": "code",
   "execution_count": 264,
   "metadata": {},
   "outputs": [
    {
     "name": "stdout",
     "output_type": "stream",
     "text": [
      "2\n",
      "2\n",
      "2\n"
     ]
    }
   ],
   "source": [
    "print(x.ndim)\n",
    "print(y.ndim)\n",
    "print(z.ndim)"
   ]
  },
  {
   "cell_type": "markdown",
   "metadata": {},
   "source": [
    "# strides"
   ]
  },
  {
   "cell_type": "code",
   "execution_count": 265,
   "metadata": {},
   "outputs": [
    {
     "name": "stdout",
     "output_type": "stream",
     "text": [
      "(12, 4)\n",
      "(32, 8)\n",
      "(64, 16)\n"
     ]
    }
   ],
   "source": [
    "print(x.strides)\n",
    "print(y.strides)\n",
    "print(z.strides)"
   ]
  },
  {
   "cell_type": "markdown",
   "metadata": {},
   "source": [
    "# pointer to the memory area of the array as a Python integer"
   ]
  },
  {
   "cell_type": "code",
   "execution_count": 266,
   "metadata": {},
   "outputs": [
    {
     "name": "stdout",
     "output_type": "stream",
     "text": [
      "82896008\n",
      "68506848\n",
      "163494680\n"
     ]
    }
   ],
   "source": [
    "print(x.ctypes.data)\n",
    "print(y.ctypes.data)\n",
    "print(z.ctypes.data)"
   ]
  },
  {
   "cell_type": "markdown",
   "metadata": {},
   "source": [
    "# base"
   ]
  },
  {
   "cell_type": "code",
   "execution_count": 267,
   "metadata": {},
   "outputs": [
    {
     "name": "stdout",
     "output_type": "stream",
     "text": [
      "None\n",
      "None\n",
      "None\n"
     ]
    }
   ],
   "source": [
    "print(x.base)\n",
    "print(y.base)\n",
    "print(z.base)"
   ]
  },
  {
   "cell_type": "markdown",
   "metadata": {},
   "source": [
    "# transpose of array"
   ]
  },
  {
   "cell_type": "code",
   "execution_count": 292,
   "metadata": {},
   "outputs": [
    {
     "name": "stdout",
     "output_type": "stream",
     "text": [
      "[[1 4 7]\n",
      " [2 5 8]\n",
      " [3 6 9]]\n",
      "[[1.5 2.1 3.1]\n",
      " [1.  2.2 3.4]\n",
      " [1.  2.  3.5]\n",
      " [2.  3.3 4.4]]\n",
      "[[1. +2.j 1.5+3.j 3. +4.j]\n",
      " [1. +2.j 2.2+3.j 3.3+4.j]\n",
      " [1. +2.j 2.5+3.j 3. +0.j]\n",
      " [2. +3.j 3. +3.j 4. +4.j]]\n"
     ]
    }
   ],
   "source": [
    "print(x.T)\n",
    "print(y.T)\n",
    "print(z.T)"
   ]
  },
  {
   "cell_type": "markdown",
   "metadata": {},
   "source": [
    "# all elements of array are true then return true"
   ]
  },
  {
   "cell_type": "code",
   "execution_count": 293,
   "metadata": {},
   "outputs": [
    {
     "name": "stdout",
     "output_type": "stream",
     "text": [
      "True\n",
      "True\n",
      "True\n"
     ]
    }
   ],
   "source": [
    "print(x.all())\n",
    "print(y.all())\n",
    "print(z.all())"
   ]
  },
  {
   "cell_type": "markdown",
   "metadata": {},
   "source": [
    "# if any element of array is true"
   ]
  },
  {
   "cell_type": "code",
   "execution_count": 294,
   "metadata": {},
   "outputs": [
    {
     "name": "stdout",
     "output_type": "stream",
     "text": [
      "True\n",
      "True\n",
      "True\n"
     ]
    }
   ],
   "source": [
    "print(x.any())\n",
    "print(y.any())\n",
    "print(z.any())"
   ]
  },
  {
   "cell_type": "markdown",
   "metadata": {},
   "source": [
    "# argmax"
   ]
  },
  {
   "cell_type": "code",
   "execution_count": 307,
   "metadata": {},
   "outputs": [
    {
     "name": "stdout",
     "output_type": "stream",
     "text": [
      "[2 2 2]\n",
      "[3 3 3]\n",
      "[3 3 3]\n"
     ]
    }
   ],
   "source": [
    "print(x.argmax())\n",
    "print(y.argmax())\n",
    "print(z.argmax())"
   ]
  },
  {
   "cell_type": "markdown",
   "metadata": {},
   "source": [
    "# argmin"
   ]
  },
  {
   "cell_type": "code",
   "execution_count": 303,
   "metadata": {},
   "outputs": [
    {
     "name": "stdout",
     "output_type": "stream",
     "text": [
      "0\n",
      "1\n",
      "0\n"
     ]
    }
   ],
   "source": [
    "print(x.argmin())\n",
    "print(y.argmin())\n",
    "print(z.argmin())"
   ]
  },
  {
   "cell_type": "markdown",
   "metadata": {},
   "source": [
    "# 37. argSort"
   ]
  },
  {
   "cell_type": "code",
   "execution_count": 310,
   "metadata": {},
   "outputs": [
    {
     "name": "stdout",
     "output_type": "stream",
     "text": [
      "[[0 0 0]\n",
      " [1 1 1]\n",
      " [2 2 2]]\n",
      "[[0 0 0 0]\n",
      " [1 1 1 1]\n",
      " [2 2 2 2]]\n",
      "[[0 1 2 3]\n",
      " [0 1 2 3]\n",
      " [2 0 1 3]]\n"
     ]
    }
   ],
   "source": [
    "print(x.argsort(axis=0))\n",
    "print(y.argsort(axis=0))\n",
    "print(z.argsort(axis=1))"
   ]
  },
  {
   "cell_type": "markdown",
   "metadata": {},
   "source": [
    "# Swap the bytes of the array elements"
   ]
  },
  {
   "cell_type": "code",
   "execution_count": 312,
   "metadata": {},
   "outputs": [
    {
     "name": "stdout",
     "output_type": "stream",
     "text": [
      "[[1 2 3]\n",
      " [4 5 6]\n",
      " [7 8 9]]\n",
      "[[ 3.140e-319  3.039e-319  3.039e-319  3.162e-322]\n",
      " [-6.066e+066 -1.542e-180  3.162e-322  1.904e+185]\n",
      " [-6.066e+066  4.667e-062  1.549e-320 -1.542e-180]]\n",
      "[[ 3.039e-319+0.j  3.039e-319+0.j  3.039e-319+0.j  3.162e-322+0.j]\n",
      " [ 3.140e-319+0.j -1.542e-180+0.j  5.375e-321+0.j  1.043e-320+0.j]\n",
      " [ 1.043e-320+0.j  1.904e+185+0.j  1.043e-320+0.j  2.055e-320+0.j]]\n"
     ]
    }
   ],
   "source": [
    "print(x.byteswap(inplace=True))\n",
    "print(y.byteswap(inplace=True))\n",
    "print(z.byteswap(inplace=True))"
   ]
  },
  {
   "cell_type": "markdown",
   "metadata": {},
   "source": [
    "# clip"
   ]
  },
  {
   "cell_type": "code",
   "execution_count": 317,
   "metadata": {},
   "outputs": [
    {
     "name": "stdout",
     "output_type": "stream",
     "text": [
      "[[1 2 2]\n",
      " [2 2 2]\n",
      " [2 2 2]]\n",
      "[[1.1 1.1 1.1 1.1]\n",
      " [1.1 1.1 1.1 2.5]\n",
      " [1.1 1.1 1.1 1.1]]\n",
      "[[2.000e+000+0.j 2.000e+000+0.j 2.000e+000+0.j 2.000e+000+0.j]\n",
      " [2.000e+000+0.j 2.000e+000+0.j 2.000e+000+0.j 2.000e+000+0.j]\n",
      " [2.000e+000+0.j 1.904e+185+0.j 2.000e+000+0.j 2.000e+000+0.j]]\n"
     ]
    }
   ],
   "source": [
    "print(x.clip(min=1,max=2))\n",
    "print(y.clip(min=1.1,max=2.5))\n",
    "print(z.clip(min=2))"
   ]
  },
  {
   "cell_type": "markdown",
   "metadata": {},
   "source": [
    "# Complex-conjugate all elements."
   ]
  },
  {
   "cell_type": "code",
   "execution_count": 318,
   "metadata": {},
   "outputs": [
    {
     "name": "stdout",
     "output_type": "stream",
     "text": [
      "[[1 2 3]\n",
      " [4 5 6]\n",
      " [7 8 9]]\n",
      "[[ 3.140e-319  3.039e-319  3.039e-319  3.162e-322]\n",
      " [-6.066e+066 -1.542e-180  3.162e-322  1.904e+185]\n",
      " [-6.066e+066  4.667e-062  1.549e-320 -1.542e-180]]\n",
      "[[ 3.039e-319-0.j  3.039e-319-0.j  3.039e-319-0.j  3.162e-322-0.j]\n",
      " [ 3.140e-319-0.j -1.542e-180-0.j  5.375e-321-0.j  1.043e-320-0.j]\n",
      " [ 1.043e-320-0.j  1.904e+185-0.j  1.043e-320-0.j  2.055e-320-0.j]]\n"
     ]
    }
   ],
   "source": [
    "print(x.conj())\n",
    "print(y.conj())\n",
    "print(z.conj())"
   ]
  },
  {
   "cell_type": "markdown",
   "metadata": {},
   "source": [
    "# Complex-conjugate all elements elementwise."
   ]
  },
  {
   "cell_type": "code",
   "execution_count": 325,
   "metadata": {},
   "outputs": [
    {
     "name": "stdout",
     "output_type": "stream",
     "text": [
      "[[1 2 3]\n",
      " [4 5 6]\n",
      " [7 8 9]]\n",
      "[[1.5 1.  1.  2. ]\n",
      " [2.1 2.2 2.  3.3]\n",
      " [3.1 3.4 3.5 4.4]]\n",
      "[[1. -2.j 1. -2.j 1. -2.j 2. -3.j]\n",
      " [1.5-3.j 2.2-3.j 2.5-3.j 3. -3.j]\n",
      " [3. -4.j 3.3-4.j 3. -0.j 4. -4.j]]\n"
     ]
    }
   ],
   "source": [
    "print(x.conjugate())\n",
    "print(y.conjugate())\n",
    "print(z.conjugate())"
   ]
  },
  {
   "cell_type": "markdown",
   "metadata": {},
   "source": [
    "# copy"
   ]
  },
  {
   "cell_type": "code",
   "execution_count": 331,
   "metadata": {},
   "outputs": [
    {
     "name": "stdout",
     "output_type": "stream",
     "text": [
      "[[1 2 3]\n",
      " [4 5 6]\n",
      " [7 8 9]]\n",
      "[[1.5 1.  1.  2. ]\n",
      " [2.1 2.2 2.  3.3]\n",
      " [3.1 3.4 3.5 4.4]]\n",
      "[[1. +2.j 1. +2.j 1. +2.j 2. +3.j]\n",
      " [1.5+3.j 2.2+3.j 2.5+3.j 3. +3.j]\n",
      " [3. +4.j 3.3+4.j 3. +0.j 4. +4.j]]\n"
     ]
    }
   ],
   "source": [
    "a=x.copy()\n",
    "print(a)\n",
    "b=y.copy()\n",
    "print(b)\n",
    "c=z.copy()\n",
    "print(c)"
   ]
  },
  {
   "cell_type": "markdown",
   "metadata": {},
   "source": [
    "# cumprod"
   ]
  },
  {
   "cell_type": "code",
   "execution_count": 335,
   "metadata": {},
   "outputs": [
    {
     "name": "stdout",
     "output_type": "stream",
     "text": [
      "[[  1   2   3]\n",
      " [  4  10  18]\n",
      " [ 28  80 162]]\n",
      "[[  1.5     1.5     1.5     3.   ]\n",
      " [  2.1     4.62    9.24   30.492]\n",
      " [  3.1    10.54   36.89  162.316]]\n",
      "[[   1.    +2.j     -3.    +4.j    -11.    -2.j    -16.   -37.j  ]\n",
      " [   1.5   +3.j     -5.7  +11.1j   -47.55 +10.65j -174.6 -110.7j ]\n",
      " [   3.    +4.j     -6.1  +25.2j   -18.3  +75.6j  -375.6 +229.2j ]]\n"
     ]
    }
   ],
   "source": [
    "print(x.cumprod(axis=0,dtype=int))\n",
    "print(y.cumprod(axis=1,dtype=float))\n",
    "print(z.cumprod(axis=1,dtype=complex))"
   ]
  },
  {
   "cell_type": "markdown",
   "metadata": {},
   "source": [
    "# cumsum"
   ]
  },
  {
   "cell_type": "code",
   "execution_count": 336,
   "metadata": {},
   "outputs": [
    {
     "name": "stdout",
     "output_type": "stream",
     "text": [
      "[[ 1  2  3]\n",
      " [ 5  7  9]\n",
      " [12 15 18]]\n",
      "[[ 1.5  2.5  3.5  5.5]\n",
      " [ 2.1  4.3  6.3  9.6]\n",
      " [ 3.1  6.5 10.  14.4]]\n",
      "[[ 1.  +2.j  2.  +4.j  3.  +6.j  5.  +9.j]\n",
      " [ 1.5 +3.j  3.7 +6.j  6.2 +9.j  9.2+12.j]\n",
      " [ 3.  +4.j  6.3 +8.j  9.3 +8.j 13.3+12.j]]\n"
     ]
    }
   ],
   "source": [
    "print(x.cumsum(axis=0,dtype=int))\n",
    "print(y.cumsum(axis=1,dtype=float))\n",
    "print(z.cumsum(axis=1,dtype=complex))"
   ]
  },
  {
   "cell_type": "markdown",
   "metadata": {},
   "source": [
    "# diagonal"
   ]
  },
  {
   "cell_type": "code",
   "execution_count": 337,
   "metadata": {},
   "outputs": [
    {
     "name": "stdout",
     "output_type": "stream",
     "text": [
      "[1 5 9]\n",
      "[1.5 2.2 3.5]\n",
      "[1. +2.j 2.2+3.j 3. +0.j]\n"
     ]
    }
   ],
   "source": [
    "print(x.diagonal())\n",
    "print(y.diagonal())\n",
    "print(z.diagonal())"
   ]
  },
  {
   "cell_type": "markdown",
   "metadata": {},
   "source": [
    "# dot product"
   ]
  },
  {
   "cell_type": "code",
   "execution_count": 343,
   "metadata": {},
   "outputs": [
    {
     "name": "stdout",
     "output_type": "stream",
     "text": [
      "[[15.  15.6 15.5 21.8]\n",
      " [35.1 35.4 35.  50.9]\n",
      " [55.2 55.2 54.5 80. ]]\n",
      "[[13. +20.j 15.3+20.j 15.  +8.j 20. +21.j]\n",
      " [29.5+47.j 34.8+47.j 34.5+23.j 47. +51.j]\n",
      " [46. +74.j 54.3+74.j 54. +38.j 74. +81.j]]\n"
     ]
    }
   ],
   "source": [
    "print(x.dot(y))\n",
    "print(x.dot(z))"
   ]
  },
  {
   "cell_type": "markdown",
   "metadata": {},
   "source": [
    "# fill"
   ]
  },
  {
   "cell_type": "code",
   "execution_count": 349,
   "metadata": {},
   "outputs": [
    {
     "name": "stdout",
     "output_type": "stream",
     "text": [
      "[[0 0 0]\n",
      " [0 0 0]\n",
      " [0 0 0]]\n",
      "[[1.5 1.5 1.5 1.5]\n",
      " [1.5 1.5 1.5 1.5]\n",
      " [1.5 1.5 1.5 1.5]]\n",
      "[[2.+3.j 2.+3.j 2.+3.j 2.+3.j]\n",
      " [2.+3.j 2.+3.j 2.+3.j 2.+3.j]\n",
      " [2.+3.j 2.+3.j 2.+3.j 2.+3.j]]\n"
     ]
    }
   ],
   "source": [
    "x.fill(0)\n",
    "y.fill(1.5)\n",
    "z.fill(2+3j)\n",
    "print(x)\n",
    "print(y)\n",
    "print(z)"
   ]
  },
  {
   "cell_type": "markdown",
   "metadata": {},
   "source": [
    "# mean"
   ]
  },
  {
   "cell_type": "code",
   "execution_count": 352,
   "metadata": {},
   "outputs": [
    {
     "name": "stdout",
     "output_type": "stream",
     "text": [
      "5.0\n",
      "2.4583333333333335\n",
      "(2.2916666666666665+2.75j)\n"
     ]
    }
   ],
   "source": [
    "print(x.mean())\n",
    "print(y.mean())\n",
    "print(z.mean())"
   ]
  },
  {
   "cell_type": "markdown",
   "metadata": {},
   "source": [
    "# standard deviation"
   ]
  },
  {
   "cell_type": "code",
   "execution_count": 355,
   "metadata": {},
   "outputs": [
    {
     "name": "stdout",
     "output_type": "stream",
     "text": [
      "2.581988897471611\n",
      "1.0266923698081243\n",
      "1.4565703629492885\n"
     ]
    }
   ],
   "source": [
    "print(x.std())\n",
    "print(y.std())\n",
    "print(z.std())"
   ]
  },
  {
   "cell_type": "markdown",
   "metadata": {},
   "source": [
    "# sum"
   ]
  },
  {
   "cell_type": "code",
   "execution_count": 356,
   "metadata": {},
   "outputs": [
    {
     "name": "stdout",
     "output_type": "stream",
     "text": [
      "45\n",
      "29.5\n",
      "(27.5+33j)\n"
     ]
    }
   ],
   "source": [
    "print(x.sum())\n",
    "print(y.sum())\n",
    "print(z.sum())"
   ]
  },
  {
   "cell_type": "markdown",
   "metadata": {},
   "source": [
    "# trace"
   ]
  },
  {
   "cell_type": "code",
   "execution_count": 357,
   "metadata": {},
   "outputs": [
    {
     "name": "stdout",
     "output_type": "stream",
     "text": [
      "15\n",
      "7.2\n",
      "(6.2+5j)\n"
     ]
    }
   ],
   "source": [
    "print(x.trace())\n",
    "print(y.trace())\n",
    "print(z.trace())"
   ]
  },
  {
   "cell_type": "markdown",
   "metadata": {},
   "source": [
    "# variance"
   ]
  },
  {
   "cell_type": "code",
   "execution_count": 358,
   "metadata": {},
   "outputs": [
    {
     "name": "stdout",
     "output_type": "stream",
     "text": [
      "6.666666666666667\n",
      "1.0540972222222222\n",
      "2.121597222222222\n"
     ]
    }
   ],
   "source": [
    "print(x.var())\n",
    "print(y.var())\n",
    "print(z.var())"
   ]
  },
  {
   "cell_type": "markdown",
   "metadata": {},
   "source": [
    "# view"
   ]
  },
  {
   "cell_type": "code",
   "execution_count": 359,
   "metadata": {},
   "outputs": [
    {
     "name": "stdout",
     "output_type": "stream",
     "text": [
      "[[1 2 3]\n",
      " [4 5 6]\n",
      " [7 8 9]]\n",
      "[[1.5 1.  1.  2. ]\n",
      " [2.1 2.2 2.  3.3]\n",
      " [3.1 3.4 3.5 4.4]]\n",
      "[[1. +2.j 1. +2.j 1. +2.j 2. +3.j]\n",
      " [1.5+3.j 2.2+3.j 2.5+3.j 3. +3.j]\n",
      " [3. +4.j 3.3+4.j 3. +0.j 4. +4.j]]\n"
     ]
    }
   ],
   "source": [
    "print(x.view())\n",
    "print(y.view())\n",
    "print(z.view())"
   ]
  },
  {
   "cell_type": "markdown",
   "metadata": {},
   "source": [
    "# swapaxes"
   ]
  },
  {
   "cell_type": "code",
   "execution_count": 360,
   "metadata": {},
   "outputs": [
    {
     "name": "stdout",
     "output_type": "stream",
     "text": [
      "[[1 4 7]\n",
      " [2 5 8]\n",
      " [3 6 9]]\n",
      "[[1.5 2.1 3.1]\n",
      " [1.  2.2 3.4]\n",
      " [1.  2.  3.5]\n",
      " [2.  3.3 4.4]]\n",
      "[[1. +2.j 1.5+3.j 3. +4.j]\n",
      " [1. +2.j 2.2+3.j 3.3+4.j]\n",
      " [1. +2.j 2.5+3.j 3. +0.j]\n",
      " [2. +3.j 3. +3.j 4. +4.j]]\n"
     ]
    }
   ],
   "source": [
    "print(x.swapaxes(0,1))\n",
    "print(y.swapaxes(0,1))\n",
    "print(z.swapaxes(0,1))"
   ]
  },
  {
   "cell_type": "markdown",
   "metadata": {},
   "source": [
    "# repeat"
   ]
  },
  {
   "cell_type": "code",
   "execution_count": 363,
   "metadata": {},
   "outputs": [
    {
     "name": "stdout",
     "output_type": "stream",
     "text": [
      "[[1 2 3]\n",
      " [4 5 6]\n",
      " [7 8 9]]\n",
      "[[1.5 1.5 1.  1.  1.  1.  2.  2. ]\n",
      " [2.1 2.1 2.2 2.2 2.  2.  3.3 3.3]\n",
      " [3.1 3.1 3.4 3.4 3.5 3.5 4.4 4.4]]\n",
      "[[1. +2.j 1. +2.j 1. +2.j 1. +2.j 1. +2.j 1. +2.j 1. +2.j 1. +2.j 1. +2.j\n",
      "  2. +3.j 2. +3.j 2. +3.j]\n",
      " [1.5+3.j 1.5+3.j 1.5+3.j 2.2+3.j 2.2+3.j 2.2+3.j 2.5+3.j 2.5+3.j 2.5+3.j\n",
      "  3. +3.j 3. +3.j 3. +3.j]\n",
      " [3. +4.j 3. +4.j 3. +4.j 3.3+4.j 3.3+4.j 3.3+4.j 3. +0.j 3. +0.j 3. +0.j\n",
      "  4. +4.j 4. +4.j 4. +4.j]]\n"
     ]
    }
   ],
   "source": [
    "print(x.repeat(1,axis=0))\n",
    "print(y.repeat(2,axis=1))\n",
    "print(z.repeat(3,axis=1))"
   ]
  },
  {
   "cell_type": "markdown",
   "metadata": {},
   "source": [
    "# Ravel"
   ]
  },
  {
   "cell_type": "code",
   "execution_count": 364,
   "metadata": {},
   "outputs": [
    {
     "name": "stdout",
     "output_type": "stream",
     "text": [
      "[1 2 3 4 5 6 7 8 9]\n",
      "[1.5 1.  1.  2.  2.1 2.2 2.  3.3 3.1 3.4 3.5 4.4]\n",
      "[1. +2.j 1. +2.j 1. +2.j 2. +3.j 1.5+3.j 2.2+3.j 2.5+3.j 3. +3.j 3. +4.j\n",
      " 3.3+4.j 3. +0.j 4. +4.j]\n"
     ]
    }
   ],
   "source": [
    "print(x.ravel())\n",
    "print(y.ravel())\n",
    "print(z.ravel())"
   ]
  },
  {
   "cell_type": "markdown",
   "metadata": {},
   "source": [
    "# product"
   ]
  },
  {
   "cell_type": "code",
   "execution_count": 365,
   "metadata": {},
   "outputs": [
    {
     "name": "stdout",
     "output_type": "stream",
     "text": [
      "362880\n",
      "14848.018416000004\n",
      "(-1397493-3390201j)\n"
     ]
    }
   ],
   "source": [
    "print(x.prod())\n",
    "print(y.prod())\n",
    "print(z.prod())"
   ]
  },
  {
   "cell_type": "markdown",
   "metadata": {},
   "source": [
    "# min"
   ]
  },
  {
   "cell_type": "code",
   "execution_count": 366,
   "metadata": {},
   "outputs": [
    {
     "name": "stdout",
     "output_type": "stream",
     "text": [
      "1\n",
      "1.0\n",
      "(1+2j)\n"
     ]
    }
   ],
   "source": [
    "print(x.min())\n",
    "print(y.min())\n",
    "print(z.min())"
   ]
  },
  {
   "cell_type": "markdown",
   "metadata": {},
   "source": [
    "# max"
   ]
  },
  {
   "cell_type": "code",
   "execution_count": 367,
   "metadata": {},
   "outputs": [
    {
     "name": "stdout",
     "output_type": "stream",
     "text": [
      "9\n",
      "4.4\n",
      "(4+4j)\n"
     ]
    }
   ],
   "source": [
    "print(x.max())\n",
    "print(y.max())\n",
    "print(z.max())"
   ]
  },
  {
   "cell_type": "markdown",
   "metadata": {},
   "source": [
    "# compress"
   ]
  },
  {
   "cell_type": "code",
   "execution_count": 372,
   "metadata": {},
   "outputs": [
    {
     "name": "stdout",
     "output_type": "stream",
     "text": [
      "[2]\n",
      "[1. 1.]\n",
      "[1.+2.j 1.+2.j 2.+3.j]\n"
     ]
    }
   ],
   "source": [
    "print(x.compress([0, 1]))\n",
    "print(y.compress([0,1,2]))\n",
    "print(z.compress([0,1,2,3]))"
   ]
  },
  {
   "cell_type": "markdown",
   "metadata": {},
   "source": [
    "# getfield"
   ]
  },
  {
   "cell_type": "code",
   "execution_count": 378,
   "metadata": {},
   "outputs": [
    {
     "name": "stdout",
     "output_type": "stream",
     "text": [
      "[[0. 0. 0.]\n",
      " [0. 0. 0.]\n",
      " [0. 0. 0.]]\n",
      "[[1.5 1.  1.  2. ]\n",
      " [2.1 2.2 2.  3.3]\n",
      " [3.1 3.4 3.5 4.4]]\n",
      "[[1.  1.  1.  2. ]\n",
      " [1.5 2.2 2.5 3. ]\n",
      " [3.  3.3 3.  4. ]]\n"
     ]
    }
   ],
   "source": [
    "print(x.getfield(np.float32))\n",
    "print(y.getfield(np.float64))\n",
    "print(z.getfield(np.float64))"
   ]
  },
  {
   "cell_type": "markdown",
   "metadata": {},
   "source": [
    "# nonzero"
   ]
  },
  {
   "cell_type": "code",
   "execution_count": 384,
   "metadata": {},
   "outputs": [
    {
     "name": "stdout",
     "output_type": "stream",
     "text": [
      "(array([0, 0, 0, 1, 1, 1, 2, 2, 2], dtype=int32), array([0, 1, 2, 0, 1, 2, 0, 1, 2], dtype=int32))\n",
      "(array([0, 0, 0, 0, 1, 1, 1, 1, 2, 2, 2, 2], dtype=int32), array([0, 1, 2, 3, 0, 1, 2, 3, 0, 1, 2, 3], dtype=int32))\n",
      "(array([0, 0, 0, 0, 1, 1, 1, 1, 2, 2, 2, 2], dtype=int32), array([0, 1, 2, 3, 0, 1, 2, 3, 0, 1, 2, 3], dtype=int32))\n"
     ]
    }
   ],
   "source": [
    "print(x.nonzero())\n",
    "print(y.nonzero())\n",
    "print(z.nonzero())"
   ]
  },
  {
   "cell_type": "code",
   "execution_count": null,
   "metadata": {},
   "outputs": [],
   "source": []
  }
 ],
 "metadata": {
  "kernelspec": {
   "display_name": "Python 3",
   "language": "python",
   "name": "python3"
  },
  "language_info": {
   "codemirror_mode": {
    "name": "ipython",
    "version": 3
   },
   "file_extension": ".py",
   "mimetype": "text/x-python",
   "name": "python",
   "nbconvert_exporter": "python",
   "pygments_lexer": "ipython3",
   "version": "3.8.6"
  }
 },
 "nbformat": 4,
 "nbformat_minor": 4
}
